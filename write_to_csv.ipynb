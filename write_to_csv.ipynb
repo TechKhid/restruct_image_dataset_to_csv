{
 "cells": [
  {
   "cell_type": "code",
   "execution_count": 1,
   "metadata": {},
   "outputs": [],
   "source": [
    "from pathlib import Path\n",
    "from typing import List, Dict, Any, Union\n",
    "import csv\n",
    "import os\n",
    "\n",
    "\n"
   ]
  },
  {
   "cell_type": "code",
   "execution_count": 2,
   "metadata": {},
   "outputs": [],
   "source": [
    "# the path.home() navigates to your user path example: \"C:\\Users\\Samuel\", by joining New Plant Diseases Dataset(Augmented)/New Plant Diseases Dataset(Augmented)\n",
    "# I'm pointing to the New Plant Diseases Dataset(Augmented) folder inside the main New Plant Diseases Dataset(Augmented) folder\n",
    "root_dir= Path.home()/r\"New Plant Diseases Dataset(Augmented)/New Plant Diseases Dataset(Augmented)\"\n",
    "\n",
    "def match_img_class(root_directory: Union[Path, os.PathLike]):\n",
    "    train_filename = \"\"\n",
    "    valid_filename = \"\"\n",
    "    train_imgs_list = []\n",
    "    valid_imgs_list = []\n",
    "    top_dir = root_directory.iterdir()\n",
    "    for dir_ in top_dir:\n",
    "        \n",
    "        if dir_.is_dir():    \n",
    "            if dir_.name == \"train\":\n",
    "                print(dir_.name)\n",
    "                train_filename = dir_.name + \".csv\"\n",
    "                train_dirs = dir_.iterdir()\n",
    "                for t_dir in train_dirs:\n",
    "                    if t_dir.is_dir():\n",
    "                        class_name = t_dir.parts[-1]\n",
    "                        class_imgs = t_dir.iterdir()\n",
    "                        for img_ in class_imgs:\n",
    "                            if img_.is_file():  \n",
    "                                img = img_.parts[-1]\n",
    "                                train_img_dict = {class_name: img}\n",
    "                                train_imgs_list.append(train_img_dict)\n",
    "            elif dir_.name == \"valid\":\n",
    "                    print(dir_.name)\n",
    "                    valid_filename = dir_.name + \".csv\"\n",
    "                    train_dirs = dir_.iterdir()\n",
    "                    for t_dir in train_dirs:\n",
    "                        if t_dir.is_dir():\n",
    "                            class_name = t_dir.parts[-1]\n",
    "                            class_imgs = t_dir.iterdir()\n",
    "                            for img_ in class_imgs:\n",
    "                                if img_.is_file():  \n",
    "                                    img = img_.parts[-1]\n",
    "                                    valid_img_dict = {class_name: img}\n",
    "                                    valid_imgs_list.append(valid_img_dict)\n",
    "    return train_imgs_list, train_filename, valid_imgs_list, valid_filename"
   ]
  },
  {
   "cell_type": "code",
   "execution_count": 3,
   "metadata": {},
   "outputs": [
    {
     "name": "stdout",
     "output_type": "stream",
     "text": [
      "train\n",
      "valid\n"
     ]
    }
   ],
   "source": [
    "train_imgs, train_filename, valid_imgs, valid_filename = match_img_class(root_dir)"
   ]
  },
  {
   "cell_type": "code",
   "execution_count": 4,
   "metadata": {},
   "outputs": [],
   "source": [
    "with open(train_filename, 'w', newline='') as f:\n",
    "    fieldnames = [\"Class_label\", \"Image_name\"]\n",
    "    writer = csv.DictWriter(f, fieldnames=fieldnames)\n",
    "    writer.writeheader()  \n",
    "\n",
    "    for row in train_imgs:\n",
    "        label = list(row.keys())[0]\n",
    "        img = list(row.values())[0]\n",
    "        writer.writerow({\"Class_label\": label, \"Image_name\": img})\n",
    "    f.close()"
   ]
  },
  {
   "cell_type": "code",
   "execution_count": 5,
   "metadata": {},
   "outputs": [],
   "source": [
    "with open(valid_filename, 'w', newline='') as v:\n",
    "    fieldnames = [\"Class_label\", \"Image_name\"]\n",
    "    writer = csv.DictWriter(v, fieldnames=fieldnames)\n",
    "    writer.writeheader()  \n",
    "\n",
    "    for row in valid_imgs:\n",
    "        label = list(row.keys())[0]\n",
    "        img = list(row.values())[0]\n",
    "        writer.writerow({\"Class_label\": label, \"Image_name\": img})\n",
    "    v.close()"
   ]
  },
  {
   "cell_type": "code",
   "execution_count": null,
   "metadata": {},
   "outputs": [],
   "source": []
  }
 ],
 "metadata": {
  "kernelspec": {
   "display_name": "poseidon",
   "language": "python",
   "name": "python3"
  },
  "language_info": {
   "codemirror_mode": {
    "name": "ipython",
    "version": 3
   },
   "file_extension": ".py",
   "mimetype": "text/x-python",
   "name": "python",
   "nbconvert_exporter": "python",
   "pygments_lexer": "ipython3",
   "version": "3.10.13"
  }
 },
 "nbformat": 4,
 "nbformat_minor": 2
}
